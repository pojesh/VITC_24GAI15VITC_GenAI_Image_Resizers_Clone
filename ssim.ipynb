{
 "cells": [
  {
   "cell_type": "code",
   "execution_count": 1,
   "id": "351faa5d",
   "metadata": {},
   "outputs": [],
   "source": [
    "import numpy as np\n",
    "from skimage.metrics import structural_similarity as ssim\n",
    "import cv2 # Optional, for loading images"
   ]
  },
  {
   "cell_type": "code",
   "execution_count": 2,
   "id": "785ae801",
   "metadata": {},
   "outputs": [],
   "source": [
    "    # Example: Loading images using OpenCV\n",
    "image1 = cv2.imread('upscale-results/robotmeditate_original.webp', cv2.IMREAD_GRAYSCALE)\n",
    "image2 = cv2.imread('upscale-results/robotmeditate_2x.jpg', cv2.IMREAD_GRAYSCALE)\n",
    "\n",
    "    # Ensure images are of the same data type and potentially normalize if needed\n",
    "image1 = image1.astype(np.float64)\n",
    "image2 = image2.astype(np.float64)"
   ]
  },
  {
   "cell_type": "code",
   "execution_count": 8,
   "id": "2a40078c",
   "metadata": {},
   "outputs": [
    {
     "name": "stdout",
     "output_type": "stream",
     "text": [
      "The SSIM score is: 0.9034112376220247\n"
     ]
    }
   ],
   "source": [
    "import cv2\n",
    "from skimage.metrics import structural_similarity as ssim\n",
    "\n",
    "def calculate_ssim_robust(image_path1, image_path2):\n",
    "    \"\"\"\n",
    "    Calculates the Structural Similarity Index (SSIM) between two images\n",
    "    after ensuring they have the same dimensions and are in grayscale.\n",
    "    \n",
    "    Args:\n",
    "        image_path1 (str): The file path to the first image.\n",
    "        image_path2 (str): The file path to the second image.\n",
    "        \n",
    "    Returns:\n",
    "        float: The SSIM score between the two images.\n",
    "    \"\"\"\n",
    "    # Load the two input images\n",
    "    image1 = cv2.imread(image_path1)\n",
    "    image2 = cv2.imread(image_path2)\n",
    "\n",
    "    # Check if images were loaded correctly\n",
    "    if image1 is None or image2 is None:\n",
    "        raise FileNotFoundError(\"One or both images could not be loaded.\")\n",
    "\n",
    "    # Convert the images to grayscale\n",
    "    gray1 = cv2.cvtColor(image1, cv2.COLOR_BGR2GRAY)\n",
    "    gray2 = cv2.cvtColor(image2, cv2.COLOR_BGR2GRAY)\n",
    "\n",
    "    # Resize image2 to match the dimensions of image1\n",
    "    # cv2.INTER_AREA is a good interpolation method for shrinking images\n",
    "    gray2_resized = cv2.resize(gray2, (gray1.shape[1], gray1.shape[0]), interpolation=cv2.INTER_AREA)\n",
    "\n",
    "    # Compute the SSIM between the two images\n",
    "    (score, diff) = ssim(gray1, gray2_resized, full=True)\n",
    "\n",
    "    return score\n",
    "\n",
    "# Example usage:\n",
    "try:\n",
    "    # Replace with the paths to your actual images\n",
    "    similarity_score = calculate_ssim_robust(\"upscale-results/tree_original.jpg\", \"upscale-results/tree_2x.jpg\")\n",
    "    print(f\"The SSIM score is: {similarity_score}\")\n",
    "except FileNotFoundError as e:\n",
    "    print(e)\n",
    "except Exception as e:\n",
    "    print(f\"An error occurred: {e}\")\n"
   ]
  },
  {
   "cell_type": "code",
   "execution_count": null,
   "id": "8fe11c6f",
   "metadata": {},
   "outputs": [],
   "source": []
  }
 ],
 "metadata": {
  "kernelspec": {
   "display_name": "Python 3",
   "language": "python",
   "name": "python3"
  },
  "language_info": {
   "codemirror_mode": {
    "name": "ipython",
    "version": 3
   },
   "file_extension": ".py",
   "mimetype": "text/x-python",
   "name": "python",
   "nbconvert_exporter": "python",
   "pygments_lexer": "ipython3",
   "version": "3.10.11"
  }
 },
 "nbformat": 4,
 "nbformat_minor": 5
}
